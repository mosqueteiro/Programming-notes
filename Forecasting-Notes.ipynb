{
 "cells": [
  {
   "cell_type": "markdown",
   "metadata": {},
   "source": [
    "# Notes from FORECASTING\n",
    "Notes from [**Forecasting: Principles and Practice**](https://otexts.com/fpp2/). As a practice to help retain information\n",
    "learned and for later reference, I am re-recording notes that I take along the way while reading this text."
   ]
  },
  {
   "cell_type": "markdown",
   "metadata": {},
   "source": [
    "## [1: Getting Started](https://otexts.com/fpp2/intro.html)  "
   ]
  },
  {
   "cell_type": "markdown",
   "metadata": {},
   "source": [
    "### [1.6: Basic Steps](https://otexts.com/fpp2/basic-steps.html)  \n",
    "1. Define the problem  \n",
    "2. Gather information  \n",
    "3. Preliminary (exploratory) analysis  \n",
    "4. Choosing and fitting models  \n",
    "5. Using and evaluating a forecasting model  "
   ]
  },
  {
   "cell_type": "markdown",
   "metadata": {},
   "source": [
    "### [1.8: exercises](https://otexts.com/fpp2/intro-exercises.html)  \n",
    "1. List possible predictions that might be useful assuming data is available.  \n",
    "   Case 3: A large fleet of cars, forecast re-sale value  \n",
    "   > historic car sales with model, mileage, year, year sold, condition  \n",
    "\n",
    "   Case 4: forecasting weekly air passenger traffic  \n",
    "   > historic traffic by day of week, month of year  \n",
    "\n",
    "2. For case 3, describe the five steps of forecasting in the contect of this project.  \n",
    "   > Step 1: forecast re-sale value of cars  \n",
    "   > Step 2: gather historic used car sales data (price, mileage, date, etc.)  \n",
    "   > Step 3: look at the data, graph it, look for patterns  \n",
    "   > Step 4: decide on a model to use and fit the model to the data, make sure to train/test spilt  \n",
    "   > Step 5: evaluate the model accuracy, use for predictions  "
   ]
  },
  {
   "cell_type": "markdown",
   "metadata": {},
   "source": [
    "## [2: Time Series Graphics](https://otexts.com/fpp2/graphics.html)  \n",
    "The first thing to do in any data analysis task is to plot the data.  \n",
    "**Note:** I will be translating *R* code and plots into\n",
    "_python_."
   ]
  },
  {
   "cell_type": "markdown",
   "metadata": {},
   "source": [
    "### [2.1: `ts` objects (in `pandas`)](https://otexts.com/fpp2/ts-objects.html)  \n",
    "A `ts` object is a list of numbers associated with specific times.\n",
    "\n",
    "| Year | Observation|\n",
    "|---|---|\n",
    "2012 | 123\n",
    "2013 | 39\n",
    "2014 | 78\n",
    "2015 | 52\n",
    "2016 | 110\n",
    "\n",
    "**Note:** `pandas` `datetime` object resolution is to the _day_ and smaller. To show only _year_ we call `.year` on the index which can change how we interact with the series later."
   ]
  },
  {
   "cell_type": "code",
   "execution_count": 5,
   "metadata": {},
   "outputs": [
    {
     "data": {
      "text/plain": [
       "2012    123\n",
       "2013     39\n",
       "2014     78\n",
       "2015     52\n",
       "2016    110\n",
       "dtype: int64"
      ]
     },
     "execution_count": 5,
     "metadata": {},
     "output_type": "execute_result"
    }
   ],
   "source": [
    "import pandas as pd\n",
    "\n",
    "data = [123, 39, 78, 52, 110]\n",
    "idx = pd.date_range(start='2012', periods=len(data), freq='A')\n",
    "pd.Series(data, index=idx.year)"
   ]
  },
  {
   "cell_type": "markdown",
   "metadata": {},
   "source": [
    "frequency aliases of times series are  \n",
    "\n",
    "frequency | code\n",
    "---|---\n",
    "Annual (year end) | 'A'\n",
    "Quarterly (quarter end) | 'Q'\n",
    "Monthly (month end) | 'M'\n",
    "Weekly | 'W'\n",
    "\n",
    "a full list of `pandas` aliases can be found [here](https://pandas.pydata.org/pandas-docs/stable/user_guide/timeseries.html#timeseries-offset-aliases)"
   ]
  },
  {
   "cell_type": "code",
   "execution_count": null,
   "metadata": {},
   "outputs": [],
   "source": []
  }
 ],
 "metadata": {
  "kernelspec": {
   "display_name": "Python 3",
   "language": "python",
   "name": "python3"
  },
  "language_info": {
   "codemirror_mode": {
    "name": "ipython",
    "version": 3
   },
   "file_extension": ".py",
   "mimetype": "text/x-python",
   "name": "python",
   "nbconvert_exporter": "python",
   "pygments_lexer": "ipython3",
   "version": "3.7.1"
  }
 },
 "nbformat": 4,
 "nbformat_minor": 2
}
